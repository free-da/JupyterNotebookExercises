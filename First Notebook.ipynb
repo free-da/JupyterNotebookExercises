{
 "cells": [
  {
   "cell_type": "code",
   "execution_count": 1,
   "id": "0695115b",
   "metadata": {},
   "outputs": [
    {
     "name": "stdout",
     "output_type": "stream",
     "text": [
      "Hallo Herr Edlich\n"
     ]
    }
   ],
   "source": [
    "print(\"Hallo Herr Edlich\")"
   ]
  },
  {
   "cell_type": "markdown",
   "id": "d1e32a16",
   "metadata": {},
   "source": [
    "Dies ist eine _markdown_ __Zelle__\n",
    "Some code:\n",
    "```python\n",
    "def make_printable_grid_rows(row_caption_values, grid):\n",
    "    printable_grid = []\n",
    "    for i in range(0, grid.number_of_rows):\n",
    "        row = row_caption_values[i] + \" |\"\n",
    "        for j in range(0, grid.number_of_columns):\n",
    "            row += \" \" + draw_field_type(grid.get_field_value(i, j)) + \" |\"\n",
    "        printable_grid.append(row)\n",
    "\n",
    "    return printable_grid\n",
    "    \n",
    "```"
   ]
  },
  {
   "cell_type": "code",
   "execution_count": 18,
   "id": "bdc0d462",
   "metadata": {},
   "outputs": [
    {
     "name": "stdout",
     "output_type": "stream",
     "text": [
      "  | A | B | C |\n",
      "--+---+---+---+--\n",
      "1 |   |   |   |\n",
      "--+---+---+---+--\n",
      "2 |   |   |   |\n",
      "--+---+---+---+--\n",
      "3 |   |   |   |\n",
      "--+---+---+---+--\n"
     ]
    }
   ],
   "source": [
    "number_of_columns = 3\n",
    "number_of_rows = number_of_columns\n",
    "\n",
    "\n",
    "def draw_gameboard():\n",
    "    column_caption_values = get_column_caption_values()\n",
    "    row_caption_values = get_row_caption_values()\n",
    "    printable_column_caption = make_beautiful_column_caption(column_caption_values)\n",
    "    printable_grid = make_printable_grid_rows(row_caption_values)\n",
    "    inbetween_rows = make_beautiful_row_separator()\n",
    "    print(printable_column_caption)\n",
    "    print(inbetween_rows)\n",
    "    for i in printable_grid:\n",
    "        print(i)\n",
    "        print(inbetween_rows)\n",
    "\n",
    "def make_beautiful_row_separator():\n",
    "    row_separator_builder = \"--\"\n",
    "    for i in range(0, number_of_columns):\n",
    "        row_separator_builder += \"+---\"\n",
    "\n",
    "    row_separator_builder += \"+--\"\n",
    "    return row_separator_builder\n",
    "\n",
    "\n",
    "def make_printable_grid_rows(row_caption_values):\n",
    "    printable_grid = []\n",
    "    for i in range(0, number_of_rows):\n",
    "        row = row_caption_values[i] + \" |\"\n",
    "        for j in range(0, number_of_columns):\n",
    "            row += \"   |\"\n",
    "        printable_grid.append(row)\n",
    "\n",
    "    return printable_grid\n",
    "\n",
    "\n",
    "def make_beautiful_column_caption(column_caption_values):\n",
    "    column_caption_builder = \"\"\n",
    "    column_caption_builder += \"  |\"\n",
    "    for i in column_caption_values:\n",
    "        column_caption_builder += \" \" + i + \" |\"\n",
    "\n",
    "    return column_caption_builder\n",
    "\n",
    "\n",
    "def get_column_caption_values():\n",
    "    column_caption_helper = [\"A\", \"B\", \"C\", \"D\", \"E\", \"F\"]\n",
    "    return column_caption_helper[0:number_of_columns]\n",
    "\n",
    "\n",
    "def get_row_caption_values():\n",
    "    row_caption_helper = [\"1\", \"2\", \"3\", \"4\", \"5\", \"6\"]\n",
    "    return row_caption_helper[0:number_of_rows]\n",
    "\n",
    "draw_gameboard()"
   ]
  },
  {
   "cell_type": "code",
   "execution_count": 19,
   "id": "74157125",
   "metadata": {},
   "outputs": [
    {
     "name": "stdout",
     "output_type": "stream",
     "text": [
      "mal gucken, ob und wie Variablen von einer Zelle in die nächste übergeben werden.\n"
     ]
    }
   ],
   "source": [
    "print(\"mal gucken, ob und wie Variablen von einer Zelle in die nächste übergeben werden.\")\n",
    "number_of_columns = 2\n",
    "number_of_rows = 5"
   ]
  },
  {
   "cell_type": "code",
   "execution_count": 20,
   "id": "4d8cf0cd",
   "metadata": {},
   "outputs": [
    {
     "name": "stdout",
     "output_type": "stream",
     "text": [
      "  | A | B |\n",
      "--+---+---+--\n",
      "1 |   |   |\n",
      "--+---+---+--\n",
      "2 |   |   |\n",
      "--+---+---+--\n",
      "3 |   |   |\n",
      "--+---+---+--\n",
      "4 |   |   |\n",
      "--+---+---+--\n",
      "5 |   |   |\n",
      "--+---+---+--\n"
     ]
    }
   ],
   "source": [
    "draw_gameboard()"
   ]
  },
  {
   "cell_type": "markdown",
   "id": "1bb3ba29",
   "metadata": {},
   "source": [
    "__ich habe gelernt:__\n",
    "* nach einer Änderung muss man der Reihe nach alle Zellen in der Reihenfolge ihrer intendierten Ausführung noch einmal ausführen."
   ]
  },
  {
   "cell_type": "code",
   "execution_count": null,
   "id": "dd9f9f66",
   "metadata": {},
   "outputs": [],
   "source": []
  }
 ],
 "metadata": {
  "kernelspec": {
   "display_name": "Python 3 (ipykernel)",
   "language": "python",
   "name": "python3"
  },
  "language_info": {
   "codemirror_mode": {
    "name": "ipython",
    "version": 3
   },
   "file_extension": ".py",
   "mimetype": "text/x-python",
   "name": "python",
   "nbconvert_exporter": "python",
   "pygments_lexer": "ipython3",
   "version": "3.9.12"
  }
 },
 "nbformat": 4,
 "nbformat_minor": 5
}
